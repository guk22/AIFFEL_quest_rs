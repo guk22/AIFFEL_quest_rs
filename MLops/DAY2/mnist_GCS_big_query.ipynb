{
  "nbformat": 4,
  "nbformat_minor": 0,
  "metadata": {
    "colab": {
      "provenance": [],
      "include_colab_link": true
    },
    "kernelspec": {
      "name": "python3",
      "display_name": "Python 3"
    },
    "language_info": {
      "name": "python"
    }
  },
  "cells": [
    {
      "cell_type": "markdown",
      "metadata": {
        "id": "view-in-github",
        "colab_type": "text"
      },
      "source": [
        "<a href=\"https://colab.research.google.com/github/guk22/AIFFEL_quest_rs/blob/main/mnist_GCS_big_query.ipynb\" target=\"_parent\"><img src=\"https://colab.research.google.com/assets/colab-badge.svg\" alt=\"Open In Colab\"/></a>"
      ]
    },
    {
      "cell_type": "code",
      "execution_count": 1,
      "metadata": {
        "id": "qk4lwg9klj3F",
        "colab": {
          "base_uri": "https://localhost:8080/"
        },
        "collapsed": true,
        "outputId": "96f15e08-f1e8-462f-8cbe-1d3f6b2edab7"
      },
      "outputs": [
        {
          "output_type": "stream",
          "name": "stdout",
          "text": [
            "Requirement already satisfied: google-cloud-storage in /usr/local/lib/python3.10/dist-packages (2.8.0)\n",
            "Requirement already satisfied: google-cloud-bigquery in /usr/local/lib/python3.10/dist-packages (3.25.0)\n",
            "Requirement already satisfied: pandas in /usr/local/lib/python3.10/dist-packages (2.2.2)\n",
            "Requirement already satisfied: tensorflow in /usr/local/lib/python3.10/dist-packages (2.17.0)\n",
            "Requirement already satisfied: numpy in /usr/local/lib/python3.10/dist-packages (1.26.4)\n",
            "Requirement already satisfied: google-auth<3.0dev,>=1.25.0 in /usr/local/lib/python3.10/dist-packages (from google-cloud-storage) (2.27.0)\n",
            "Requirement already satisfied: google-api-core!=2.0.*,!=2.1.*,!=2.2.*,!=2.3.0,<3.0.0dev,>=1.31.5 in /usr/local/lib/python3.10/dist-packages (from google-cloud-storage) (2.19.2)\n",
            "Requirement already satisfied: google-cloud-core<3.0dev,>=2.3.0 in /usr/local/lib/python3.10/dist-packages (from google-cloud-storage) (2.4.1)\n",
            "Requirement already satisfied: google-resumable-media>=2.3.2 in /usr/local/lib/python3.10/dist-packages (from google-cloud-storage) (2.7.2)\n",
            "Requirement already satisfied: requests<3.0.0dev,>=2.18.0 in /usr/local/lib/python3.10/dist-packages (from google-cloud-storage) (2.32.3)\n",
            "Requirement already satisfied: packaging>=20.0.0 in /usr/local/lib/python3.10/dist-packages (from google-cloud-bigquery) (24.1)\n",
            "Requirement already satisfied: python-dateutil<3.0dev,>=2.7.2 in /usr/local/lib/python3.10/dist-packages (from google-cloud-bigquery) (2.8.2)\n",
            "Requirement already satisfied: pytz>=2020.1 in /usr/local/lib/python3.10/dist-packages (from pandas) (2024.2)\n",
            "Requirement already satisfied: tzdata>=2022.7 in /usr/local/lib/python3.10/dist-packages (from pandas) (2024.2)\n",
            "Requirement already satisfied: absl-py>=1.0.0 in /usr/local/lib/python3.10/dist-packages (from tensorflow) (1.4.0)\n",
            "Requirement already satisfied: astunparse>=1.6.0 in /usr/local/lib/python3.10/dist-packages (from tensorflow) (1.6.3)\n",
            "Requirement already satisfied: flatbuffers>=24.3.25 in /usr/local/lib/python3.10/dist-packages (from tensorflow) (24.3.25)\n",
            "Requirement already satisfied: gast!=0.5.0,!=0.5.1,!=0.5.2,>=0.2.1 in /usr/local/lib/python3.10/dist-packages (from tensorflow) (0.6.0)\n",
            "Requirement already satisfied: google-pasta>=0.1.1 in /usr/local/lib/python3.10/dist-packages (from tensorflow) (0.2.0)\n",
            "Requirement already satisfied: h5py>=3.10.0 in /usr/local/lib/python3.10/dist-packages (from tensorflow) (3.12.1)\n",
            "Requirement already satisfied: libclang>=13.0.0 in /usr/local/lib/python3.10/dist-packages (from tensorflow) (18.1.1)\n",
            "Requirement already satisfied: ml-dtypes<0.5.0,>=0.3.1 in /usr/local/lib/python3.10/dist-packages (from tensorflow) (0.4.1)\n",
            "Requirement already satisfied: opt-einsum>=2.3.2 in /usr/local/lib/python3.10/dist-packages (from tensorflow) (3.4.0)\n",
            "Requirement already satisfied: protobuf!=4.21.0,!=4.21.1,!=4.21.2,!=4.21.3,!=4.21.4,!=4.21.5,<5.0.0dev,>=3.20.3 in /usr/local/lib/python3.10/dist-packages (from tensorflow) (3.20.3)\n",
            "Requirement already satisfied: setuptools in /usr/local/lib/python3.10/dist-packages (from tensorflow) (75.1.0)\n",
            "Requirement already satisfied: six>=1.12.0 in /usr/local/lib/python3.10/dist-packages (from tensorflow) (1.16.0)\n",
            "Requirement already satisfied: termcolor>=1.1.0 in /usr/local/lib/python3.10/dist-packages (from tensorflow) (2.5.0)\n",
            "Requirement already satisfied: typing-extensions>=3.6.6 in /usr/local/lib/python3.10/dist-packages (from tensorflow) (4.12.2)\n",
            "Requirement already satisfied: wrapt>=1.11.0 in /usr/local/lib/python3.10/dist-packages (from tensorflow) (1.16.0)\n",
            "Requirement already satisfied: grpcio<2.0,>=1.24.3 in /usr/local/lib/python3.10/dist-packages (from tensorflow) (1.64.1)\n",
            "Requirement already satisfied: tensorboard<2.18,>=2.17 in /usr/local/lib/python3.10/dist-packages (from tensorflow) (2.17.0)\n",
            "Requirement already satisfied: keras>=3.2.0 in /usr/local/lib/python3.10/dist-packages (from tensorflow) (3.4.1)\n",
            "Requirement already satisfied: tensorflow-io-gcs-filesystem>=0.23.1 in /usr/local/lib/python3.10/dist-packages (from tensorflow) (0.37.1)\n",
            "Requirement already satisfied: wheel<1.0,>=0.23.0 in /usr/local/lib/python3.10/dist-packages (from astunparse>=1.6.0->tensorflow) (0.44.0)\n",
            "Requirement already satisfied: googleapis-common-protos<2.0.dev0,>=1.56.2 in /usr/local/lib/python3.10/dist-packages (from google-api-core!=2.0.*,!=2.1.*,!=2.2.*,!=2.3.0,<3.0.0dev,>=1.31.5->google-cloud-storage) (1.65.0)\n",
            "Requirement already satisfied: proto-plus<2.0.0dev,>=1.22.3 in /usr/local/lib/python3.10/dist-packages (from google-api-core!=2.0.*,!=2.1.*,!=2.2.*,!=2.3.0,<3.0.0dev,>=1.31.5->google-cloud-storage) (1.25.0)\n",
            "Requirement already satisfied: grpcio-status<2.0.dev0,>=1.33.2 in /usr/local/lib/python3.10/dist-packages (from google-api-core[grpc]!=2.0.*,!=2.1.*,!=2.10.*,!=2.2.*,!=2.3.*,!=2.4.*,!=2.5.*,!=2.6.*,!=2.7.*,!=2.8.*,!=2.9.*,<3.0.0dev,>=1.34.1->google-cloud-bigquery) (1.48.2)\n",
            "Requirement already satisfied: cachetools<6.0,>=2.0.0 in /usr/local/lib/python3.10/dist-packages (from google-auth<3.0dev,>=1.25.0->google-cloud-storage) (5.5.0)\n",
            "Requirement already satisfied: pyasn1-modules>=0.2.1 in /usr/local/lib/python3.10/dist-packages (from google-auth<3.0dev,>=1.25.0->google-cloud-storage) (0.4.1)\n",
            "Requirement already satisfied: rsa<5,>=3.1.4 in /usr/local/lib/python3.10/dist-packages (from google-auth<3.0dev,>=1.25.0->google-cloud-storage) (4.9)\n",
            "Requirement already satisfied: google-crc32c<2.0dev,>=1.0 in /usr/local/lib/python3.10/dist-packages (from google-resumable-media>=2.3.2->google-cloud-storage) (1.6.0)\n",
            "Requirement already satisfied: rich in /usr/local/lib/python3.10/dist-packages (from keras>=3.2.0->tensorflow) (13.9.3)\n",
            "Requirement already satisfied: namex in /usr/local/lib/python3.10/dist-packages (from keras>=3.2.0->tensorflow) (0.0.8)\n",
            "Requirement already satisfied: optree in /usr/local/lib/python3.10/dist-packages (from keras>=3.2.0->tensorflow) (0.13.0)\n",
            "Requirement already satisfied: charset-normalizer<4,>=2 in /usr/local/lib/python3.10/dist-packages (from requests<3.0.0dev,>=2.18.0->google-cloud-storage) (3.4.0)\n",
            "Requirement already satisfied: idna<4,>=2.5 in /usr/local/lib/python3.10/dist-packages (from requests<3.0.0dev,>=2.18.0->google-cloud-storage) (3.10)\n",
            "Requirement already satisfied: urllib3<3,>=1.21.1 in /usr/local/lib/python3.10/dist-packages (from requests<3.0.0dev,>=2.18.0->google-cloud-storage) (2.2.3)\n",
            "Requirement already satisfied: certifi>=2017.4.17 in /usr/local/lib/python3.10/dist-packages (from requests<3.0.0dev,>=2.18.0->google-cloud-storage) (2024.8.30)\n",
            "Requirement already satisfied: markdown>=2.6.8 in /usr/local/lib/python3.10/dist-packages (from tensorboard<2.18,>=2.17->tensorflow) (3.7)\n",
            "Requirement already satisfied: tensorboard-data-server<0.8.0,>=0.7.0 in /usr/local/lib/python3.10/dist-packages (from tensorboard<2.18,>=2.17->tensorflow) (0.7.2)\n",
            "Requirement already satisfied: werkzeug>=1.0.1 in /usr/local/lib/python3.10/dist-packages (from tensorboard<2.18,>=2.17->tensorflow) (3.0.6)\n",
            "Requirement already satisfied: pyasn1<0.7.0,>=0.4.6 in /usr/local/lib/python3.10/dist-packages (from pyasn1-modules>=0.2.1->google-auth<3.0dev,>=1.25.0->google-cloud-storage) (0.6.1)\n",
            "Requirement already satisfied: MarkupSafe>=2.1.1 in /usr/local/lib/python3.10/dist-packages (from werkzeug>=1.0.1->tensorboard<2.18,>=2.17->tensorflow) (3.0.2)\n",
            "Requirement already satisfied: markdown-it-py>=2.2.0 in /usr/local/lib/python3.10/dist-packages (from rich->keras>=3.2.0->tensorflow) (3.0.0)\n",
            "Requirement already satisfied: pygments<3.0.0,>=2.13.0 in /usr/local/lib/python3.10/dist-packages (from rich->keras>=3.2.0->tensorflow) (2.18.0)\n",
            "Requirement already satisfied: mdurl~=0.1 in /usr/local/lib/python3.10/dist-packages (from markdown-it-py>=2.2.0->rich->keras>=3.2.0->tensorflow) (0.1.2)\n",
            "Requirement already satisfied: google-colab in /usr/local/lib/python3.10/dist-packages (1.0.0)\n",
            "Requirement already satisfied: google-auth in /usr/local/lib/python3.10/dist-packages (2.27.0)\n",
            "Requirement already satisfied: ipykernel==5.5.6 in /usr/local/lib/python3.10/dist-packages (from google-colab) (5.5.6)\n",
            "Requirement already satisfied: ipyparallel==8.8.0 in /usr/local/lib/python3.10/dist-packages (from google-colab) (8.8.0)\n",
            "Requirement already satisfied: ipython==7.34.0 in /usr/local/lib/python3.10/dist-packages (from google-colab) (7.34.0)\n",
            "Requirement already satisfied: notebook==6.5.5 in /usr/local/lib/python3.10/dist-packages (from google-colab) (6.5.5)\n",
            "Requirement already satisfied: pandas==2.2.2 in /usr/local/lib/python3.10/dist-packages (from google-colab) (2.2.2)\n",
            "Requirement already satisfied: portpicker==1.5.2 in /usr/local/lib/python3.10/dist-packages (from google-colab) (1.5.2)\n",
            "Requirement already satisfied: requests==2.32.3 in /usr/local/lib/python3.10/dist-packages (from google-colab) (2.32.3)\n",
            "Requirement already satisfied: tornado==6.3.3 in /usr/local/lib/python3.10/dist-packages (from google-colab) (6.3.3)\n",
            "Requirement already satisfied: cachetools<6.0,>=2.0.0 in /usr/local/lib/python3.10/dist-packages (from google-auth) (5.5.0)\n",
            "Requirement already satisfied: pyasn1-modules>=0.2.1 in /usr/local/lib/python3.10/dist-packages (from google-auth) (0.4.1)\n",
            "Requirement already satisfied: rsa<5,>=3.1.4 in /usr/local/lib/python3.10/dist-packages (from google-auth) (4.9)\n",
            "Requirement already satisfied: ipython-genutils in /usr/local/lib/python3.10/dist-packages (from ipykernel==5.5.6->google-colab) (0.2.0)\n",
            "Requirement already satisfied: traitlets>=4.1.0 in /usr/local/lib/python3.10/dist-packages (from ipykernel==5.5.6->google-colab) (5.7.1)\n",
            "Requirement already satisfied: jupyter-client in /usr/local/lib/python3.10/dist-packages (from ipykernel==5.5.6->google-colab) (6.1.12)\n",
            "Requirement already satisfied: decorator in /usr/local/lib/python3.10/dist-packages (from ipyparallel==8.8.0->google-colab) (4.4.2)\n",
            "Requirement already satisfied: entrypoints in /usr/local/lib/python3.10/dist-packages (from ipyparallel==8.8.0->google-colab) (0.4)\n",
            "Requirement already satisfied: psutil in /usr/local/lib/python3.10/dist-packages (from ipyparallel==8.8.0->google-colab) (5.9.5)\n",
            "Requirement already satisfied: python-dateutil>=2.1 in /usr/local/lib/python3.10/dist-packages (from ipyparallel==8.8.0->google-colab) (2.8.2)\n",
            "Requirement already satisfied: pyzmq>=18 in /usr/local/lib/python3.10/dist-packages (from ipyparallel==8.8.0->google-colab) (24.0.1)\n",
            "Requirement already satisfied: tqdm in /usr/local/lib/python3.10/dist-packages (from ipyparallel==8.8.0->google-colab) (4.66.6)\n",
            "Requirement already satisfied: setuptools>=18.5 in /usr/local/lib/python3.10/dist-packages (from ipython==7.34.0->google-colab) (75.1.0)\n",
            "Collecting jedi>=0.16 (from ipython==7.34.0->google-colab)\n",
            "  Downloading jedi-0.19.1-py2.py3-none-any.whl.metadata (22 kB)\n",
            "Requirement already satisfied: pickleshare in /usr/local/lib/python3.10/dist-packages (from ipython==7.34.0->google-colab) (0.7.5)\n",
            "Requirement already satisfied: prompt-toolkit!=3.0.0,!=3.0.1,<3.1.0,>=2.0.0 in /usr/local/lib/python3.10/dist-packages (from ipython==7.34.0->google-colab) (3.0.48)\n",
            "Requirement already satisfied: pygments in /usr/local/lib/python3.10/dist-packages (from ipython==7.34.0->google-colab) (2.18.0)\n",
            "Requirement already satisfied: backcall in /usr/local/lib/python3.10/dist-packages (from ipython==7.34.0->google-colab) (0.2.0)\n",
            "Requirement already satisfied: matplotlib-inline in /usr/local/lib/python3.10/dist-packages (from ipython==7.34.0->google-colab) (0.1.7)\n",
            "Requirement already satisfied: pexpect>4.3 in /usr/local/lib/python3.10/dist-packages (from ipython==7.34.0->google-colab) (4.9.0)\n",
            "Requirement already satisfied: jinja2 in /usr/local/lib/python3.10/dist-packages (from notebook==6.5.5->google-colab) (3.1.4)\n",
            "Requirement already satisfied: argon2-cffi in /usr/local/lib/python3.10/dist-packages (from notebook==6.5.5->google-colab) (23.1.0)\n",
            "Requirement already satisfied: jupyter-core>=4.6.1 in /usr/local/lib/python3.10/dist-packages (from notebook==6.5.5->google-colab) (5.7.2)\n",
            "Requirement already satisfied: nbformat in /usr/local/lib/python3.10/dist-packages (from notebook==6.5.5->google-colab) (5.10.4)\n",
            "Requirement already satisfied: nbconvert>=5 in /usr/local/lib/python3.10/dist-packages (from notebook==6.5.5->google-colab) (7.16.4)\n",
            "Requirement already satisfied: nest-asyncio>=1.5 in /usr/local/lib/python3.10/dist-packages (from notebook==6.5.5->google-colab) (1.6.0)\n",
            "Requirement already satisfied: Send2Trash>=1.8.0 in /usr/local/lib/python3.10/dist-packages (from notebook==6.5.5->google-colab) (1.8.3)\n",
            "Requirement already satisfied: terminado>=0.8.3 in /usr/local/lib/python3.10/dist-packages (from notebook==6.5.5->google-colab) (0.18.1)\n",
            "Requirement already satisfied: prometheus-client in /usr/local/lib/python3.10/dist-packages (from notebook==6.5.5->google-colab) (0.21.0)\n",
            "Requirement already satisfied: nbclassic>=0.4.7 in /usr/local/lib/python3.10/dist-packages (from notebook==6.5.5->google-colab) (1.1.0)\n",
            "Requirement already satisfied: numpy>=1.22.4 in /usr/local/lib/python3.10/dist-packages (from pandas==2.2.2->google-colab) (1.26.4)\n",
            "Requirement already satisfied: pytz>=2020.1 in /usr/local/lib/python3.10/dist-packages (from pandas==2.2.2->google-colab) (2024.2)\n",
            "Requirement already satisfied: tzdata>=2022.7 in /usr/local/lib/python3.10/dist-packages (from pandas==2.2.2->google-colab) (2024.2)\n",
            "Requirement already satisfied: charset-normalizer<4,>=2 in /usr/local/lib/python3.10/dist-packages (from requests==2.32.3->google-colab) (3.4.0)\n",
            "Requirement already satisfied: idna<4,>=2.5 in /usr/local/lib/python3.10/dist-packages (from requests==2.32.3->google-colab) (3.10)\n",
            "Requirement already satisfied: urllib3<3,>=1.21.1 in /usr/local/lib/python3.10/dist-packages (from requests==2.32.3->google-colab) (2.2.3)\n",
            "Requirement already satisfied: certifi>=2017.4.17 in /usr/local/lib/python3.10/dist-packages (from requests==2.32.3->google-colab) (2024.8.30)\n",
            "Requirement already satisfied: pyasn1<0.7.0,>=0.4.6 in /usr/local/lib/python3.10/dist-packages (from pyasn1-modules>=0.2.1->google-auth) (0.6.1)\n",
            "Requirement already satisfied: parso<0.9.0,>=0.8.3 in /usr/local/lib/python3.10/dist-packages (from jedi>=0.16->ipython==7.34.0->google-colab) (0.8.4)\n",
            "Requirement already satisfied: platformdirs>=2.5 in /usr/local/lib/python3.10/dist-packages (from jupyter-core>=4.6.1->notebook==6.5.5->google-colab) (4.3.6)\n",
            "Requirement already satisfied: notebook-shim>=0.2.3 in /usr/local/lib/python3.10/dist-packages (from nbclassic>=0.4.7->notebook==6.5.5->google-colab) (0.2.4)\n",
            "Requirement already satisfied: beautifulsoup4 in /usr/local/lib/python3.10/dist-packages (from nbconvert>=5->notebook==6.5.5->google-colab) (4.12.3)\n",
            "Requirement already satisfied: bleach!=5.0.0 in /usr/local/lib/python3.10/dist-packages (from nbconvert>=5->notebook==6.5.5->google-colab) (6.2.0)\n",
            "Requirement already satisfied: defusedxml in /usr/local/lib/python3.10/dist-packages (from nbconvert>=5->notebook==6.5.5->google-colab) (0.7.1)\n",
            "Requirement already satisfied: jupyterlab-pygments in /usr/local/lib/python3.10/dist-packages (from nbconvert>=5->notebook==6.5.5->google-colab) (0.3.0)\n",
            "Requirement already satisfied: markupsafe>=2.0 in /usr/local/lib/python3.10/dist-packages (from nbconvert>=5->notebook==6.5.5->google-colab) (3.0.2)\n",
            "Requirement already satisfied: mistune<4,>=2.0.3 in /usr/local/lib/python3.10/dist-packages (from nbconvert>=5->notebook==6.5.5->google-colab) (3.0.2)\n",
            "Requirement already satisfied: nbclient>=0.5.0 in /usr/local/lib/python3.10/dist-packages (from nbconvert>=5->notebook==6.5.5->google-colab) (0.10.0)\n",
            "Requirement already satisfied: packaging in /usr/local/lib/python3.10/dist-packages (from nbconvert>=5->notebook==6.5.5->google-colab) (24.1)\n",
            "Requirement already satisfied: pandocfilters>=1.4.1 in /usr/local/lib/python3.10/dist-packages (from nbconvert>=5->notebook==6.5.5->google-colab) (1.5.1)\n",
            "Requirement already satisfied: tinycss2 in /usr/local/lib/python3.10/dist-packages (from nbconvert>=5->notebook==6.5.5->google-colab) (1.4.0)\n",
            "Requirement already satisfied: fastjsonschema>=2.15 in /usr/local/lib/python3.10/dist-packages (from nbformat->notebook==6.5.5->google-colab) (2.20.0)\n",
            "Requirement already satisfied: jsonschema>=2.6 in /usr/local/lib/python3.10/dist-packages (from nbformat->notebook==6.5.5->google-colab) (4.23.0)\n",
            "Requirement already satisfied: ptyprocess>=0.5 in /usr/local/lib/python3.10/dist-packages (from pexpect>4.3->ipython==7.34.0->google-colab) (0.7.0)\n",
            "Requirement already satisfied: wcwidth in /usr/local/lib/python3.10/dist-packages (from prompt-toolkit!=3.0.0,!=3.0.1,<3.1.0,>=2.0.0->ipython==7.34.0->google-colab) (0.2.13)\n",
            "Requirement already satisfied: six>=1.5 in /usr/local/lib/python3.10/dist-packages (from python-dateutil>=2.1->ipyparallel==8.8.0->google-colab) (1.16.0)\n",
            "Requirement already satisfied: argon2-cffi-bindings in /usr/local/lib/python3.10/dist-packages (from argon2-cffi->notebook==6.5.5->google-colab) (21.2.0)\n",
            "Requirement already satisfied: webencodings in /usr/local/lib/python3.10/dist-packages (from bleach!=5.0.0->nbconvert>=5->notebook==6.5.5->google-colab) (0.5.1)\n",
            "Requirement already satisfied: attrs>=22.2.0 in /usr/local/lib/python3.10/dist-packages (from jsonschema>=2.6->nbformat->notebook==6.5.5->google-colab) (24.2.0)\n",
            "Requirement already satisfied: jsonschema-specifications>=2023.03.6 in /usr/local/lib/python3.10/dist-packages (from jsonschema>=2.6->nbformat->notebook==6.5.5->google-colab) (2024.10.1)\n",
            "Requirement already satisfied: referencing>=0.28.4 in /usr/local/lib/python3.10/dist-packages (from jsonschema>=2.6->nbformat->notebook==6.5.5->google-colab) (0.35.1)\n",
            "Requirement already satisfied: rpds-py>=0.7.1 in /usr/local/lib/python3.10/dist-packages (from jsonschema>=2.6->nbformat->notebook==6.5.5->google-colab) (0.20.0)\n",
            "Requirement already satisfied: jupyter-server<3,>=1.8 in /usr/local/lib/python3.10/dist-packages (from notebook-shim>=0.2.3->nbclassic>=0.4.7->notebook==6.5.5->google-colab) (1.24.0)\n",
            "Requirement already satisfied: cffi>=1.0.1 in /usr/local/lib/python3.10/dist-packages (from argon2-cffi-bindings->argon2-cffi->notebook==6.5.5->google-colab) (1.17.1)\n",
            "Requirement already satisfied: soupsieve>1.2 in /usr/local/lib/python3.10/dist-packages (from beautifulsoup4->nbconvert>=5->notebook==6.5.5->google-colab) (2.6)\n",
            "Requirement already satisfied: pycparser in /usr/local/lib/python3.10/dist-packages (from cffi>=1.0.1->argon2-cffi-bindings->argon2-cffi->notebook==6.5.5->google-colab) (2.22)\n",
            "Requirement already satisfied: anyio<4,>=3.1.0 in /usr/local/lib/python3.10/dist-packages (from jupyter-server<3,>=1.8->notebook-shim>=0.2.3->nbclassic>=0.4.7->notebook==6.5.5->google-colab) (3.7.1)\n",
            "Requirement already satisfied: websocket-client in /usr/local/lib/python3.10/dist-packages (from jupyter-server<3,>=1.8->notebook-shim>=0.2.3->nbclassic>=0.4.7->notebook==6.5.5->google-colab) (1.8.0)\n",
            "Requirement already satisfied: sniffio>=1.1 in /usr/local/lib/python3.10/dist-packages (from anyio<4,>=3.1.0->jupyter-server<3,>=1.8->notebook-shim>=0.2.3->nbclassic>=0.4.7->notebook==6.5.5->google-colab) (1.3.1)\n",
            "Requirement already satisfied: exceptiongroup in /usr/local/lib/python3.10/dist-packages (from anyio<4,>=3.1.0->jupyter-server<3,>=1.8->notebook-shim>=0.2.3->nbclassic>=0.4.7->notebook==6.5.5->google-colab) (1.2.2)\n",
            "Downloading jedi-0.19.1-py2.py3-none-any.whl (1.6 MB)\n",
            "\u001b[2K   \u001b[90m━━━━━━━━━━━━━━━━━━━━━━━━━━━━━━━━━━━━━━━━\u001b[0m \u001b[32m1.6/1.6 MB\u001b[0m \u001b[31m6.7 MB/s\u001b[0m eta \u001b[36m0:00:00\u001b[0m\n",
            "\u001b[?25hInstalling collected packages: jedi\n",
            "Successfully installed jedi-0.19.1\n"
          ]
        }
      ],
      "source": [
        "!pip install google-cloud-storage google-cloud-bigquery pandas tensorflow numpy\n",
        "!pip install google-colab google-auth"
      ]
    },
    {
      "cell_type": "code",
      "source": [
        "# 2. 라이브러리 임포트\n",
        "import os\n",
        "import io\n",
        "import numpy as np\n",
        "import pandas as pd\n",
        "from google.colab import auth\n",
        "from google.cloud import storage\n",
        "from google.cloud import bigquery\n",
        "from tensorflow.keras.datasets import mnist\n",
        "import tensorflow as tf\n",
        "import matplotlib.pyplot as plt\n",
        "from PIL import Image"
      ],
      "metadata": {
        "id": "lxY8P_49lldN"
      },
      "execution_count": 2,
      "outputs": []
    },
    {
      "cell_type": "code",
      "source": [
        "# 3. Google Cloud 인증\n",
        "auth.authenticate_user()"
      ],
      "metadata": {
        "id": "UDsSfxuXllfj"
      },
      "execution_count": 3,
      "outputs": []
    },
    {
      "cell_type": "code",
      "source": [
        "# @markdown 프로젝트 ID와 버킷 이름을 입력하세요\n",
        "project_id = \"mlops-aiffel\" # @param {type:\"string\"}\n",
        "bucket_name = \"aiffel_mlops\" # @param {type:\"string\"}\n",
        "assert project_id, \"프로젝트 ID를 입력해주세요!\"\n",
        "assert bucket_name, \"버킷 이름을 입력해주세요!\""
      ],
      "metadata": {
        "id": "Wa2wUpmlllh-"
      },
      "execution_count": 16,
      "outputs": []
    },
    {
      "cell_type": "code",
      "source": [
        "def create_bucket_if_not_exists(bucket_name, project_id):\n",
        "    \"\"\"Google Cloud Storage 버킷 생성\"\"\"\n",
        "    storage_client = storage.Client(project=project_id)\n",
        "\n",
        "    try:\n",
        "        bucket = storage_client.get_bucket(bucket_name)\n",
        "        print(f\"버킷 {bucket_name}이 이미 존재합니다.\")\n",
        "    except Exception:\n",
        "        print(f\"버킷 {bucket_name}을 생성합니다...\")\n",
        "        bucket = storage_client.create_bucket(bucket_name, location=\"us\")\n",
        "        print(f\"버킷이 생성되었습니다: {bucket.name}\")\n",
        "\n",
        "    return bucket"
      ],
      "metadata": {
        "id": "fd2QojGtllkV"
      },
      "execution_count": 6,
      "outputs": []
    },
    {
      "cell_type": "code",
      "source": [
        "def upload_image_to_gcs(image_array, bucket, image_path):\n",
        "    \"\"\"NumPy 배열을 PNG로 변환하여 GCS에 업로드\"\"\"\n",
        "    img = Image.fromarray(image_array)\n",
        "    img_byte_arr = io.BytesIO()\n",
        "    img.save(img_byte_arr, format='PNG')\n",
        "    img_byte_arr = img_byte_arr.getvalue()\n",
        "\n",
        "    blob = bucket.blob(image_path)\n",
        "    blob.upload_from_string(img_byte_arr, content_type='image/png')\n",
        "\n",
        "    return f\"gs://{bucket.name}/{image_path}\"\n"
      ],
      "metadata": {
        "id": "7Y_-NODfllmr"
      },
      "execution_count": 17,
      "outputs": []
    },
    {
      "cell_type": "code",
      "source": [
        "# 6. MNIST 데이터 로드 및 GCS 업로드\n",
        "def process_mnist_data(bucket):\n",
        "    \"\"\"MNIST 데이터 처리 및 GCS 업로드\"\"\"\n",
        "    print(\"MNIST 데이터 로드 중...\")\n",
        "    (x_train, y_train), (x_test, y_test) = mnist.load_data()\n",
        "\n",
        "    data_records = []\n",
        "\n",
        "    # 학습 데이터 처리\n",
        "    # 학습 데이터 처리시 시간이 오래 걸리기 때문에 5000개만 사용하는 방식으로 코드를 완성시켜주세요.\n",
        "    # 이번에는 image를 저장할때 url을 활용합니다. upload_image_to_gcs를 활용해서 코드를 만들어주세요.\n",
        "    # 이번에는 data_records에 학습데이터와 테스트 데이터 모두 넣고 진행합니다.\n",
        "    print(\"학습 데이터 처리 및 업로드 중...\")\n",
        "    NUM_DATA = 5000\n",
        "    for i in range(NUM_DATA):\n",
        "        if i % 1000 == 0:  # 진행상황 표시\n",
        "            print(f\"학습 데이터 처리 중: {i}/{NUM_DATA}\")\n",
        "\n",
        "        image_array = x_train[i]\n",
        "        label = y_train[i]\n",
        "        image_path = f\"mnist/train/{i}.png\"\n",
        "        image_url = upload_image_to_gcs(image_array, bucket, image_path)\n",
        "        data_records.append({\n",
        "            'image_id': i,\n",
        "            'label': label,\n",
        "            'image_url': image_url,\n",
        "            'dataset_type': 'train'\n",
        "        })\n",
        "\n",
        "    # 테스트 데이터 처리 (샘플만)\n",
        "    # 테스트 데이터도 학습 데이터와 똑같이 만들어주시되 1000개만 처리해주세요.\n",
        "    print(\"테스트 데이터 처리 및 업로드 중...\")\n",
        "    NUM_DATA = 1000\n",
        "    for i in range(NUM_DATA):\n",
        "        if i % 100 == 0:  # 진행상황 표시\n",
        "            print(f\"테스트 데이터 처리 중: {i}/{NUM_DATA}\")\n",
        "\n",
        "        image_array = x_test[i]\n",
        "        label = y_test[i]\n",
        "        image_path = f\"mnist/test/{i}.png\"\n",
        "        image_url = upload_image_to_gcs(image_array, bucket, image_path)\n",
        "        data_records.append({\n",
        "            'image_id': i,\n",
        "            'label': label,\n",
        "            'image_url': image_url,\n",
        "            'dataset_type': 'test'\n",
        "        })\n",
        "\n",
        "    return pd.DataFrame(data_records)\n"
      ],
      "metadata": {
        "id": "RupDaxgLllpJ"
      },
      "execution_count": 18,
      "outputs": []
    },
    {
      "cell_type": "code",
      "source": [
        "def upload_to_bigquery(df, project_id, dataset_id, table_id):\n",
        "    \"\"\"데이터프레임을 BigQuery에 업로드\"\"\"\n",
        "    # BigQuery 데이터셋 참조 객체 생성\n",
        "    client = bigquery.Client(project=project_id)\n",
        "\n",
        "    print(f\"데이터셋 {dataset_id} 생성 중...\")\n",
        "    # 데이터셋 생성 (존재하지 않는 경우)\n",
        "    dataset_ref = client.dataset(dataset_id)\n",
        "    try:\n",
        "        # 데이터셋 존재 여부 확인\n",
        "        client.get_dataset(dataset_ref)\n",
        "        print(f\"데이터셋 {dataset_id}이 이미 존재합니다.\")\n",
        "    except Exception:\n",
        "        # 데이터셋이 존재하지 않을 경우 새로 생성\n",
        "        dataset = bigquery.Dataset(dataset_ref)\n",
        "        # 데이터셋의 지역을 US로 설정\n",
        "        dataset.location = \"US\"\n",
        "        # 데이터셋 생성\n",
        "        dataset = client.create_dataset(dataset)\n",
        "        print(f\"데이터셋이 생성되었습니다: {dataset.dataset_id}\")\n",
        "\n",
        "\n",
        "    # 테이블 스키마 정의\n",
        "    schema = [\n",
        "        # 이미지 고유 식별자 (정수형)\n",
        "        # 이미지 레이블/분류 값 (정수형)\n",
        "        # 이미지 파일의 URL 주소 (문자열)\n",
        "        # 데이터셋 종류 구분 (예: train, test, validation) (문자열)\n",
        "        bigquery.SchemaField(\"image_id\", \"INTEGER\"),\n",
        "        bigquery.SchemaField(\"label\", \"INTEGER\"),\n",
        "        bigquery.SchemaField(\"image_url\", \"STRING\"),\n",
        "        bigquery.SchemaField(\"dataset_type\", \"STRING\")\n",
        "    ]\n",
        "\n",
        "    # 생성할 테이블 참조 객체 생성\n",
        "    # 테이블 객체 생성 (정의된 스키마 적용)\n",
        "    table_ref = dataset_ref.table(table_id)\n",
        "    table = bigquery.Table(table_ref, schema=schema)\n",
        "\n",
        "    print(f\"테이블 {table_id} 생성 중...\")\n",
        "    # 기존 테이블이 있다면 삭제\n",
        "    try:\n",
        "        client.delete_table(table_ref)\n",
        "    except Exception:\n",
        "        pass\n",
        "\n",
        "    # 테이블 생성\n",
        "    print(\"테이블 생성 중...\")\n",
        "    table = client.create_table(table)\n",
        "\n",
        "    print(\"BigQuery에 데이터 업로드 중...\")\n",
        "    #데이터 로드를 위한 작업 설정 객체 생성\n",
        "    job_config = bigquery.LoadJobConfig()\n",
        "    job_config.write_disposition = bigquery.WriteDisposition.WRITE_TRUNCATE\n",
        "    job_config.source_format = bigquery.SourceFormat.CSV\n",
        "    job = client.load_table_from_dataframe(df, table_ref, job_config=job_config)\n",
        "\n",
        "    # 데이터 로드 작업 실행\n",
        "    job.result()\n",
        "    print(\"업로드 완료!\")"
      ],
      "metadata": {
        "id": "gL7ud2q9llrf"
      },
      "execution_count": 22,
      "outputs": []
    },
    {
      "cell_type": "code",
      "source": [
        "def query_and_visualize(project_id, dataset_id, table_id):\n",
        "    \"\"\"BigQuery 데이터 쿼리 및 시각화\"\"\"\n",
        "    client = bigquery.Client(project=project_id)\n",
        "\n",
        "    # 레이블 별 이미지 수 조회\n",
        "    print(\"\\n레이블 별 이미지 수 분석 중...\")\n",
        "    count_query = f\"\"\"\n",
        "        SELECT label, COUNT(*) as count\n",
        "        FROM `{project_id}.{dataset_id}.{table_id}`\n",
        "        GROUP BY label\n",
        "        ORDER BY label\n",
        "    \"\"\"\n",
        "    counts_df = client.query(count_query).to_dataframe()\n",
        "\n",
        "    # 시각화\n",
        "    plt.figure(figsize=(10, 5))\n",
        "    plt.bar(counts_df['label'], counts_df['count'])\n",
        "    plt.title('Number of Images per Label')\n",
        "    plt.xlabel('Label')\n",
        "    plt.ylabel('Count')\n",
        "    plt.show()\n",
        "\n",
        "    # 샘플 URL 출력\n",
        "    print(\"\\n각 레이블의 샘플 이미지 URL:\")\n",
        "    sample_query = f\"\"\"\n",
        "        SELECT DISTINCT label,\n",
        "               ARRAY_AGG(image_url LIMIT 1)[OFFSET(0)] as sample_url,\n",
        "               COUNT(*) as count\n",
        "        FROM `{project_id}.{dataset_id}.{table_id}`\n",
        "        GROUP BY label\n",
        "        ORDER BY label\n",
        "    \"\"\"\n",
        "    samples_df = client.query(sample_query).to_dataframe()\n",
        "    return samples_df"
      ],
      "metadata": {
        "id": "sc6qLk8slltt"
      },
      "execution_count": 10,
      "outputs": []
    },
    {
      "cell_type": "code",
      "source": [
        "# GCS 버킷 생성\n",
        "bucket = create_bucket_if_not_exists(bucket_name, project_id)"
      ],
      "metadata": {
        "id": "S5OB6wQallwi",
        "colab": {
          "base_uri": "https://localhost:8080/"
        },
        "outputId": "5dc02d0f-7f0d-46bc-b8c5-75df5df7a86c"
      },
      "execution_count": 11,
      "outputs": [
        {
          "output_type": "stream",
          "name": "stdout",
          "text": [
            "버킷 aiffel_mlops이 이미 존재합니다.\n"
          ]
        }
      ]
    },
    {
      "cell_type": "code",
      "source": [
        "# MNIST 데이터 처리 및 GCS 업로드\n",
        "mnist_df = process_mnist_data(bucket)"
      ],
      "metadata": {
        "id": "HRygsdcLl-Bd",
        "colab": {
          "base_uri": "https://localhost:8080/"
        },
        "outputId": "22c0eb69-95af-47c0-f9c6-109c354202d4"
      },
      "execution_count": 12,
      "outputs": [
        {
          "output_type": "stream",
          "name": "stdout",
          "text": [
            "MNIST 데이터 로드 중...\n",
            "Downloading data from https://storage.googleapis.com/tensorflow/tf-keras-datasets/mnist.npz\n",
            "\u001b[1m11490434/11490434\u001b[0m \u001b[32m━━━━━━━━━━━━━━━━━━━━\u001b[0m\u001b[37m\u001b[0m \u001b[1m0s\u001b[0m 0us/step\n",
            "학습 데이터 처리 및 업로드 중...\n",
            "학습 데이터 처리 중: 0/5000\n",
            "학습 데이터 처리 중: 1000/5000\n",
            "학습 데이터 처리 중: 2000/5000\n",
            "학습 데이터 처리 중: 3000/5000\n",
            "학습 데이터 처리 중: 4000/5000\n",
            "테스트 데이터 처리 및 업로드 중...\n",
            "테스트 데이터 처리 중: 0/1000\n",
            "테스트 데이터 처리 중: 100/1000\n",
            "테스트 데이터 처리 중: 200/1000\n",
            "테스트 데이터 처리 중: 300/1000\n",
            "테스트 데이터 처리 중: 400/1000\n",
            "테스트 데이터 처리 중: 500/1000\n",
            "테스트 데이터 처리 중: 600/1000\n",
            "테스트 데이터 처리 중: 700/1000\n",
            "테스트 데이터 처리 중: 800/1000\n",
            "테스트 데이터 처리 중: 900/1000\n"
          ]
        }
      ]
    },
    {
      "cell_type": "code",
      "source": [
        "# BigQuery에 메타데이터 업로드\n",
        "dataset_id = 'mnist_dataset'\n",
        "table_id = 'mnist_images_gcs'\n",
        "upload_to_bigquery(mnist_df, project_id, dataset_id, table_id)"
      ],
      "metadata": {
        "id": "G8BxNUp4l-Dz",
        "colab": {
          "base_uri": "https://localhost:8080/"
        },
        "outputId": "8949f64b-09a6-4cf1-fcd6-f0408ac2d03f"
      },
      "execution_count": 23,
      "outputs": [
        {
          "output_type": "stream",
          "name": "stdout",
          "text": [
            "데이터셋 mnist_dataset 생성 중...\n",
            "데이터셋 mnist_dataset이 이미 존재합니다.\n",
            "테이블 mnist_images_gcs 생성 중...\n",
            "테이블 생성 중...\n",
            "BigQuery에 데이터 업로드 중...\n",
            "업로드 완료!\n"
          ]
        }
      ]
    },
    {
      "cell_type": "code",
      "source": [
        "# 데이터 분석 및 시각화\n",
        "samples_df = query_and_visualize(project_id, dataset_id, table_id)\n",
        "print(\"\\n각 레이블별 샘플 이미지 정보:\")\n",
        "print(samples_df)"
      ],
      "metadata": {
        "id": "cOUHjN6Rl-GI",
        "colab": {
          "base_uri": "https://localhost:8080/",
          "height": 791
        },
        "outputId": "0f73a4f7-d00a-40d6-b2b5-5eb304044d37"
      },
      "execution_count": 24,
      "outputs": [
        {
          "output_type": "stream",
          "name": "stdout",
          "text": [
            "\n",
            "레이블 별 이미지 수 분석 중...\n"
          ]
        },
        {
          "output_type": "display_data",
          "data": {
            "text/plain": [
              "<Figure size 1000x500 with 1 Axes>"
            ],
            "image/png": "[encoded data removed]"
          },
          "metadata": {}
        },
        {
          "output_type": "stream",
          "name": "stdout",
          "text": [
            "\n",
            "각 레이블의 샘플 이미지 URL:\n",
            "\n",
            "각 레이블별 샘플 이미지 정보:\n",
            "   label                           sample_url  count\n",
            "0      0   gs://aiffel_mlops/mnist/test/3.png    564\n",
            "1      1   gs://aiffel_mlops/mnist/test/2.png    689\n",
            "2      2   gs://aiffel_mlops/mnist/test/1.png    604\n",
            "3      3  gs://aiffel_mlops/mnist/test/18.png    600\n",
            "4      4   gs://aiffel_mlops/mnist/test/4.png    645\n",
            "5      5   gs://aiffel_mlops/mnist/test/8.png    521\n",
            "6      6  gs://aiffel_mlops/mnist/test/11.png    588\n",
            "7      7   gs://aiffel_mlops/mnist/test/0.png    649\n",
            "8      8  gs://aiffel_mlops/mnist/test/61.png    551\n",
            "9      9   gs://aiffel_mlops/mnist/test/7.png    589\n"
          ]
        }
      ]
    },
    {
      "cell_type": "code",
      "source": [
        "# 특정 레이블의 이미지 URL 조회\n",
        "query = f'''\n",
        "    SELECT image_url\n",
        "    FROM `{project_id}.{dataset_id}.{table_id}`\n",
        "    WHERE label = 5\n",
        "    LIMIT 5\n",
        "'''\n",
        "client = bigquery.Client(project=project_id)\n",
        "df = client.query(query).to_dataframe()\n",
        "print(\"숫자 5의 이미지 URL 샘플:\")\n",
        "print(df)"
      ],
      "metadata": {
        "id": "W6IdaTE-l-IX",
        "colab": {
          "base_uri": "https://localhost:8080/"
        },
        "outputId": "62362773-014f-4be1-94c9-ea03a2be7d3a"
      },
      "execution_count": 25,
      "outputs": [
        {
          "output_type": "stream",
          "name": "stdout",
          "text": [
            "숫자 5의 이미지 URL 샘플:\n",
            "                             image_url\n",
            "0   gs://aiffel_mlops/mnist/test/8.png\n",
            "1  gs://aiffel_mlops/mnist/test/15.png\n",
            "2  gs://aiffel_mlops/mnist/test/23.png\n",
            "3  gs://aiffel_mlops/mnist/test/45.png\n",
            "4  gs://aiffel_mlops/mnist/test/52.png\n"
          ]
        }
      ]
    },
    {
      "cell_type": "code",
      "source": [],
      "metadata": {
        "id": "O1Ka-SDBl-Ks"
      },
      "execution_count": null,
      "outputs": []
    },
    {
      "cell_type": "code",
      "source": [],
      "metadata": {
        "id": "gqthzZvcl-M7"
      },
      "execution_count": null,
      "outputs": []
    }
  ]
}

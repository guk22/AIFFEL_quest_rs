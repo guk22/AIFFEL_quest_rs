{
  "nbformat": 4,
  "nbformat_minor": 0,
  "metadata": {
    "colab": {
      "provenance": [],
      "include_colab_link": true
    },
    "kernelspec": {
      "name": "python3",
      "display_name": "Python 3"
    },
    "language_info": {
      "name": "python"
    }
  },
  "cells": [
    {
      "cell_type": "markdown",
      "metadata": {
        "id": "view-in-github",
        "colab_type": "text"
      },
      "source": [
        "<a href=\"https://colab.research.google.com/github/guk22/AIFFEL_quest_rs/blob/main/mnist_GCS_big_query.ipynb\" target=\"_parent\"><img src=\"https://colab.research.google.com/assets/colab-badge.svg\" alt=\"Open In Colab\"/></a>"
      ]
    },
    {
      "cell_type": "code",
      "execution_count": null,
      "metadata": {
        "id": "qk4lwg9klj3F"
      },
      "outputs": [],
      "source": [
        "!pip install google-cloud-storage google-cloud-bigquery pandas tensorflow numpy\n",
        "!pip install google-colab google-auth"
      ]
    },
    {
      "cell_type": "code",
      "source": [
        "# 2. 라이브러리 임포트\n",
        "import os\n",
        "import io\n",
        "import numpy as np\n",
        "import pandas as pd\n",
        "from google.colab import auth\n",
        "from google.cloud import storage\n",
        "from google.cloud import bigquery\n",
        "from tensorflow.keras.datasets import mnist\n",
        "import tensorflow as tf\n",
        "import matplotlib.pyplot as plt\n",
        "from PIL import Image"
      ],
      "metadata": {
        "id": "lxY8P_49lldN"
      },
      "execution_count": null,
      "outputs": []
    },
    {
      "cell_type": "code",
      "source": [
        "# 3. Google Cloud 인증\n",
        "auth.authenticate_user()"
      ],
      "metadata": {
        "id": "UDsSfxuXllfj"
      },
      "execution_count": null,
      "outputs": []
    },
    {
      "cell_type": "code",
      "source": [
        "# @markdown 프로젝트 ID와 버킷 이름을 입력하세요\n",
        "project_id = \"\" # @param {type:\"string\"}\n",
        "bucket_name = \"\" # @param {type:\"string\"}\n",
        "assert project_id, \"프로젝트 ID를 입력해주세요!\"\n",
        "assert bucket_name, \"버킷 이름을 입력해주세요!\""
      ],
      "metadata": {
        "id": "Wa2wUpmlllh-"
      },
      "execution_count": null,
      "outputs": []
    },
    {
      "cell_type": "code",
      "source": [
        "def create_bucket_if_not_exists(bucket_name, project_id):\n",
        "    \"\"\"Google Cloud Storage 버킷 생성\"\"\"\n",
        "    storage_client = storage.Client(project=project_id)\n",
        "\n",
        "    try:\n",
        "        bucket = storage_client.get_bucket(bucket_name)\n",
        "        print(f\"버킷 {bucket_name}이 이미 존재합니다.\")\n",
        "    except Exception:\n",
        "        print(f\"버킷 {bucket_name}을 생성합니다...\")\n",
        "        bucket = storage_client.create_bucket(bucket_name, location=\"us\")\n",
        "        print(f\"버킷이 생성되었습니다: {bucket.name}\")\n",
        "\n",
        "    return bucket"
      ],
      "metadata": {
        "id": "fd2QojGtllkV"
      },
      "execution_count": null,
      "outputs": []
    },
    {
      "cell_type": "code",
      "source": [
        "def upload_image_to_gcs(image_array, bucket, image_path):\n",
        "    \"\"\"NumPy 배열을 PNG로 변환하여 GCS에 업로드\"\"\"\n",
        "    img = Image.fromarray(image_array)\n",
        "    img_byte_arr = io.BytesIO()\n",
        "    img.save(img_byte_arr, format='PNG')\n",
        "    img_byte_arr = img_byte_arr.getvalue()\n",
        "\n",
        "    blob = bucket.blob(image_path)\n",
        "    blob.upload_from_string(img_byte_arr, content_type='image/png')\n",
        "\n",
        "    return f\"gs://{bucket.name}/{image_path}\"\n"
      ],
      "metadata": {
        "id": "7Y_-NODfllmr"
      },
      "execution_count": null,
      "outputs": []
    },
    {
      "cell_type": "code",
      "source": [
        "# 6. MNIST 데이터 로드 및 GCS 업로드\n",
        "def process_mnist_data(bucket):\n",
        "    \"\"\"MNIST 데이터 처리 및 GCS 업로드\"\"\"\n",
        "    print(\"MNIST 데이터 로드 중...\")\n",
        "    (x_train, y_train), (x_test, y_test) = mnist.load_data()\n",
        "\n",
        "    data_records = []\n",
        "\n",
        "    # 학습 데이터 처리\n",
        "    # 학습 데이터 처리시 시간이 오래 걸리기 때문에 5000개만 사용하는 방식으로 코드를 완성시켜주세요.\n",
        "    # 이번에는 image를 저장할때 url을 활용합니다. upload_image_to_gcs를 활용해서 코드를 만들어주세요.\n",
        "    # 이번에는 data_records에 학습데이터와 테스트 데이터 모두 넣고 진행합니다.\n",
        "    print(\"학습 데이터 처리 및 업로드 중...\")\n",
        "    # [[YOUR CODE]]\n",
        "\n",
        "    # 테스트 데이터 처리 (샘플만)\n",
        "    # 테스트 데이터도 학습 데이터와 똑같이 만들어주시되 1000개만 처리해주세요.\n",
        "\n",
        "    return pd.DataFrame(data_records)\n"
      ],
      "metadata": {
        "id": "RupDaxgLllpJ"
      },
      "execution_count": null,
      "outputs": []
    },
    {
      "cell_type": "code",
      "source": [
        "def upload_to_bigquery(df, project_id, dataset_id, table_id):\n",
        "    \"\"\"데이터프레임을 BigQuery에 업로드\"\"\"\n",
        "    # BigQuery 데이터셋 참조 객체 생성\n",
        "\n",
        "    try:\n",
        "        # 데이터셋 존재 여부 확인\n",
        "    except Exception:\n",
        "        # 데이터셋이 존재하지 않을 경우 새로 생성\n",
        "\n",
        "        # 데이터셋의 지역을 US로 설정\n",
        "\n",
        "        # 새로운 데이터셋 생성\n",
        "\n",
        "    # 테이블 스키마 정의\n",
        "    schema = [\n",
        "        # 이미지 고유 식별자 (정수형)\n",
        "        # 이미지 레이블/분류 값 (정수형)\n",
        "        # 이미지 파일의 URL 주소 (문자열)\n",
        "        # 데이터셋 종류 구분 (예: train, test, validation) (문자열)\n",
        "    ]\n",
        "\n",
        "    # 생성할 테이블 참조 객체 생성\n",
        "    # 테이블 객체 생성 (정의된 스키마 적용)\n",
        "\n",
        "    print(\"BigQuery에 데이터 업로드 중...\")\n",
        "    #데이터 로드를 위한 작업 설정 객체 생성\n",
        "\n",
        "    # 데이터 로드 작업 실행\n",
        "    job.result()\n",
        "    print(\"업로드 완료!\")"
      ],
      "metadata": {
        "id": "gL7ud2q9llrf"
      },
      "execution_count": null,
      "outputs": []
    },
    {
      "cell_type": "code",
      "source": [
        "def query_and_visualize(project_id, dataset_id, table_id):\n",
        "    \"\"\"BigQuery 데이터 쿼리 및 시각화\"\"\"\n",
        "    client = bigquery.Client(project=project_id)\n",
        "\n",
        "    # 레이블 별 이미지 수 조회\n",
        "    print(\"\\n레이블 별 이미지 수 분석 중...\")\n",
        "    count_query = f\"\"\"\n",
        "        SELECT label, COUNT(*) as count\n",
        "        FROM `{project_id}.{dataset_id}.{table_id}`\n",
        "        GROUP BY label\n",
        "        ORDER BY label\n",
        "    \"\"\"\n",
        "    counts_df = client.query(count_query).to_dataframe()\n",
        "\n",
        "    # 시각화\n",
        "    plt.figure(figsize=(10, 5))\n",
        "    plt.bar(counts_df['label'], counts_df['count'])\n",
        "    plt.title('Number of Images per Label')\n",
        "    plt.xlabel('Label')\n",
        "    plt.ylabel('Count')\n",
        "    plt.show()\n",
        "\n",
        "    # 샘플 URL 출력\n",
        "    print(\"\\n각 레이블의 샘플 이미지 URL:\")\n",
        "    sample_query = f\"\"\"\n",
        "        SELECT DISTINCT label,\n",
        "               ARRAY_AGG(image_url LIMIT 1)[OFFSET(0)] as sample_url,\n",
        "               COUNT(*) as count\n",
        "        FROM `{project_id}.{dataset_id}.{table_id}`\n",
        "        GROUP BY label\n",
        "        ORDER BY label\n",
        "    \"\"\"\n",
        "    samples_df = client.query(sample_query).to_dataframe()\n",
        "    return samples_df"
      ],
      "metadata": {
        "id": "sc6qLk8slltt"
      },
      "execution_count": null,
      "outputs": []
    },
    {
      "cell_type": "code",
      "source": [
        "# GCS 버킷 생성\n",
        "bucket = create_bucket_if_not_exists(bucket_name, project_id)"
      ],
      "metadata": {
        "id": "S5OB6wQallwi"
      },
      "execution_count": null,
      "outputs": []
    },
    {
      "cell_type": "code",
      "source": [
        "# MNIST 데이터 처리 및 GCS 업로드\n",
        "mnist_df = process_mnist_data(bucket)"
      ],
      "metadata": {
        "id": "HRygsdcLl-Bd"
      },
      "execution_count": null,
      "outputs": []
    },
    {
      "cell_type": "code",
      "source": [
        "# BigQuery에 메타데이터 업로드\n",
        "dataset_id = 'mnist_dataset'\n",
        "table_id = 'mnist_images_gcs'\n",
        "upload_to_bigquery(mnist_df, project_id, dataset_id, table_id)"
      ],
      "metadata": {
        "id": "G8BxNUp4l-Dz"
      },
      "execution_count": null,
      "outputs": []
    },
    {
      "cell_type": "code",
      "source": [
        "# 데이터 분석 및 시각화\n",
        "samples_df = query_and_visualize(project_id, dataset_id, table_id)\n",
        "print(\"\\n각 레이블별 샘플 이미지 정보:\")\n",
        "print(samples_df)"
      ],
      "metadata": {
        "id": "cOUHjN6Rl-GI"
      },
      "execution_count": null,
      "outputs": []
    },
    {
      "cell_type": "code",
      "source": [
        "# 특정 레이블의 이미지 URL 조회\n",
        "query = f'''\n",
        "    SELECT image_url\n",
        "    FROM `{project_id}.{dataset_id}.{table_id}`\n",
        "    WHERE label = 5\n",
        "    LIMIT 5\n",
        "'''\n",
        "client = bigquery.Client(project=project_id)\n",
        "df = client.query(query).to_dataframe()\n",
        "print(\"숫자 5의 이미지 URL 샘플:\")\n",
        "print(df)"
      ],
      "metadata": {
        "id": "W6IdaTE-l-IX"
      },
      "execution_count": null,
      "outputs": []
    },
    {
      "cell_type": "code",
      "source": [],
      "metadata": {
        "id": "O1Ka-SDBl-Ks"
      },
      "execution_count": null,
      "outputs": []
    },
    {
      "cell_type": "code",
      "source": [],
      "metadata": {
        "id": "gqthzZvcl-M7"
      },
      "execution_count": null,
      "outputs": []
    }
  ]
}